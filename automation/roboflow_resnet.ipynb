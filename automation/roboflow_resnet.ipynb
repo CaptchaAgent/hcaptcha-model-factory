{
 "nbformat": 4,
 "nbformat_minor": 0,
 "metadata": {
  "colab": {
   "provenance": []
  },
  "kernelspec": {
   "name": "python3",
   "display_name": "Python 3"
  },
  "language_info": {
   "name": "python"
  }
 },
 "cells": [
  {
   "cell_type": "markdown",
   "source": [
    "[ResNet of roboflow](https://colab.research.google.com/github/captcha-challenger/hcaptcha-model-factory/blob/main/automation/roboflow_resnet.ipynb)"
   ],
   "metadata": {
    "collapsed": false,
    "id": "wF7rJGAOEMEU"
   }
  },
  {
   "cell_type": "code",
   "execution_count": null,
   "outputs": [],
   "source": [
    "!nvidia-smi"
   ],
   "metadata": {
    "is_executing": true,
    "id": "x9-KvKZREMEW"
   }
  },
  {
   "cell_type": "code",
   "source": [
    "!pip install loguru onnx fire hcaptcha-challenger[sentinel]\n",
    "!git clone https://github.com/captcha-challenger/hcaptcha-model-factory.git\n",
    "!mv -f hcaptcha-model-factory/src .\n",
    "!rm -rf hcaptcha-model-factory/"
   ],
   "metadata": {
    "id": "1pTzykxKeaKk"
   },
   "execution_count": null,
   "outputs": []
  },
  {
   "cell_type": "markdown",
   "source": [
    "Set `label_name` and `GITHUB_TOKEN`"
   ],
   "metadata": {
    "collapsed": false,
    "id": "4_GBcuSeEMEY"
   }
  },
  {
   "cell_type": "code",
   "execution_count": null,
   "outputs": [],
   "source": [
    "import os\n",
    "\n",
    "import hcaptcha_challenger as solver\n",
    "\n",
    "os.environ[\"GITHUB_TOKEN\"] = \"\"\n",
    "task_name = \"robot\"\n",
    "onnx_archive_name = \"robot2312\"\n",
    "\n",
    "solver.diagnose_task(task_name)"
   ],
   "metadata": {
    "colab": {
     "base_uri": "https://localhost:8080/",
     "height": 35
    },
    "id": "NLfyF05xEMEZ",
    "outputId": "161cf11e-a722-4ca4-9ceb-7efdd35b0216"
   }
  },
  {
   "cell_type": "markdown",
   "source": [
    "Upload datasets to `[PROJECT_DIR]/database2309/`"
   ],
   "metadata": {
    "collapsed": false,
    "id": "FsDuWg0wEMEZ"
   }
  },
  {
   "cell_type": "code",
   "source": [
    "from pathlib import Path\n",
    "from loguru import logger\n",
    "import zipfile\n",
    "\n",
    "this_dir = Path(\"/content\")\n",
    "project_dir = this_dir\n",
    "\n",
    "model_dir = project_dir.joinpath(\"model\")\n",
    "factory_data_dir = project_dir.joinpath(\"data\")\n",
    "source_dir = project_dir.joinpath(\"src\")\n",
    "zip_path = project_dir.joinpath(f\"{task_name}.zip\")\n",
    "\n",
    "if not zip_path.exists():\n",
    "    raise FileNotFoundError\n",
    "with zipfile.ZipFile(zip_path) as z:\n",
    "    z.extractall(factory_data_dir.joinpath(task_name))"
   ],
   "metadata": {
    "id": "y9au1FLBdCxb"
   },
   "execution_count": null,
   "outputs": []
  },
  {
   "cell_type": "markdown",
   "source": [
    "Training"
   ],
   "metadata": {
    "collapsed": false,
    "id": "IBEbJ7yWEMEZ"
   }
  },
  {
   "cell_type": "code",
   "execution_count": null,
   "outputs": [],
   "source": [
    "%cd {source_dir}\n",
    "\n",
    "from factories.resnet import ResNet\n",
    "\n",
    "\n",
    "# - INPUT: `[PROJECT]/data/<task_name>`\n",
    "# - OUTPUT: `[PROJECT]/model/<task_name>/<task_name.onnx>`\n",
    "\n",
    "model = ResNet(\n",
    "    task_name=task_name,\n",
    "    epochs=None,  # default to 200\n",
    "    batch_size=None,  # default to 4\n",
    "    dir_dataset=str(factory_data_dir),\n",
    "    dir_model=str(model_dir),\n",
    ")\n",
    "model.train()\n",
    "model.conv_pth2onnx(verbose=False)"
   ],
   "metadata": {
    "id": "n6qqwsJ_EMEa"
   }
  },
  {
   "cell_type": "markdown",
   "source": [
    "Deployment model to GitHub"
   ],
   "metadata": {
    "collapsed": false,
    "id": "skqVHm_uEMEa"
   }
  },
  {
   "cell_type": "code",
   "execution_count": null,
   "outputs": [],
   "source": [
    "import locale\n",
    "\n",
    "locale.getpreferredencoding = lambda d=True: \"UTF-8\"\n",
    "\n",
    "!pip install PyGithub\n",
    "\n",
    "import shutil\n",
    "\n",
    "from github import Auth, Github, GithubException\n",
    "\n",
    "def quick_development():\n",
    "    if not os.getenv(\"GITHUB_TOKEN\"):\n",
    "        logger.warning(\"Skip model deployment, miss GITHUB TOKEN\")\n",
    "        return\n",
    "\n",
    "    auth = Auth.Token(os.getenv(\"GITHUB_TOKEN\", \"\"))\n",
    "    repo = Github(auth=auth).get_repo(\"QIN2DIM/hcaptcha-challenger\")\n",
    "    modelhub_title = \"ONNX ModelHub\"\n",
    "\n",
    "    model_path = model_dir.joinpath(task_name, f\"{task_name}.onnx\")\n",
    "    pending_onnx_path = model_dir.joinpath(task_name, f\"{onnx_archive_name}.onnx\")\n",
    "    shutil.copy(model_path, pending_onnx_path)\n",
    "\n",
    "    for release in repo.get_releases():\n",
    "        if release.title != modelhub_title:\n",
    "            continue\n",
    "        try:\n",
    "            res = release.upload_asset(path=str(pending_onnx_path))\n",
    "        except GithubException as err:\n",
    "            if err.status == 422:\n",
    "                logger.error(\n",
    "                    f\"The model file already exists, please manually replace the file with the same name - url={repo.releases_url}\",\n",
    "                    url=repo.releases_url,\n",
    "                )\n",
    "        except Exception as err:\n",
    "            logger.error(err)\n",
    "        else:\n",
    "            logger.success(\n",
    "                f\"Model file uploaded successfully - name={res.name} url={res.browser_download_url}\"\n",
    "            )\n",
    "\n",
    "\n",
    "quick_development()"
   ],
   "metadata": {
    "id": "WiVpLjU5EMEa"
   }
  }
 ]
}
